{
  "nbformat": 4,
  "nbformat_minor": 0,
  "metadata": {
    "colab": {
      "provenance": []
    },
    "kernelspec": {
      "name": "python3",
      "display_name": "Python 3"
    },
    "language_info": {
      "name": "python"
    }
  },
  "cells": [
    {
      "cell_type": "code",
      "source": [
        "n=input(\"Введите название времени года: \")\n",
        "if n==\"зима\":\n",
        "    print(\"red\")\n",
        "if n==\"весна\":\n",
        "    print(\"white\")\n",
        "if n==\"лето\":\n",
        "    print(\"violet\")\n",
        "if n==\"осень\":\n",
        "    print(\"blue\")\n",
        "\n",
        "\n",
        "\n",
        "\n",
        "\n",
        "\n",
        "\n",
        "\n",
        "\n",
        "\n"
      ],
      "metadata": {
        "colab": {
          "base_uri": "https://localhost:8080/"
        },
        "id": "1p2z--Sr8PgG",
        "outputId": "deee9264-f47a-40dd-871f-5df35ac9eeba"
      },
      "execution_count": 15,
      "outputs": [
        {
          "output_type": "stream",
          "name": "stdout",
          "text": [
            "Введите название времени года: осень\n",
            "blue\n"
          ]
        }
      ]
    },
    {
      "cell_type": "code",
      "source": [],
      "metadata": {
        "id": "R3qSDzeN8P_f",
        "colab": {
          "base_uri": "https://localhost:8080/"
        },
        "outputId": "f437099a-502c-47b2-ffe5-bde255d76c49"
      },
      "execution_count": 2,
      "outputs": [
        {
          "output_type": "execute_result",
          "data": {
            "text/plain": [
              "4000"
            ]
          },
          "metadata": {},
          "execution_count": 2
        }
      ]
    },
    {
      "cell_type": "code",
      "source": [],
      "metadata": {
        "id": "hHnVq2Kg_euE"
      },
      "execution_count": 29,
      "outputs": []
    },
    {
      "cell_type": "code",
      "source": [],
      "metadata": {
        "id": "4GNx_7Q5_Q5Q"
      },
      "execution_count": 30,
      "outputs": []
    },
    {
      "cell_type": "code",
      "source": [],
      "metadata": {
        "id": "bY2sIbyh_YK6"
      },
      "execution_count": 31,
      "outputs": []
    },
    {
      "cell_type": "code",
      "source": [],
      "metadata": {
        "id": "WF9EqlfM_bja"
      },
      "execution_count": null,
      "outputs": []
    }
  ]
}