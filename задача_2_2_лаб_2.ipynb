{
  "nbformat": 4,
  "nbformat_minor": 0,
  "metadata": {
    "colab": {
      "provenance": []
    },
    "kernelspec": {
      "name": "python3",
      "display_name": "Python 3"
    },
    "language_info": {
      "name": "python"
    }
  },
  "cells": [
    {
      "cell_type": "code",
      "source": [
        "temperature=int(input())\n",
        "is_rain=input(\"Если сегодня есть дождь, то ответьте True, если нет, то False: \")\n",
        "if temperature<15 and is_rain==\"True\":\n",
        "    print(\"с курткой, с зонтом\")\n",
        "if temperature<15 and is_rain==\"False\":\n",
        "    print(\"с курткой, без зонта\")\n",
        "if temperature>15 and is_rain==\"True\":\n",
        "    print(\"без куртки, с зонтом\")\n",
        "else:\n",
        "    print(\"без куртки, без зонта\")\n",
        "\n",
        "\n",
        "\n",
        "\n",
        "\n",
        "\n",
        "\n",
        "\n",
        "\n"
      ],
      "metadata": {
        "colab": {
          "base_uri": "https://localhost:8080/"
        },
        "id": "1p2z--Sr8PgG",
        "outputId": "9cc9811a-0a1c-43b5-d4f4-607a4b0c4444"
      },
      "execution_count": 7,
      "outputs": [
        {
          "output_type": "stream",
          "name": "stdout",
          "text": [
            "25\n",
            "Если сегодня есть дождь, то ответьте True, если нет, то False: False\n",
            "без куртки, без зонта\n"
          ]
        }
      ]
    },
    {
      "cell_type": "code",
      "source": [],
      "metadata": {
        "id": "R3qSDzeN8P_f",
        "colab": {
          "base_uri": "https://localhost:8080/"
        },
        "outputId": "f437099a-502c-47b2-ffe5-bde255d76c49"
      },
      "execution_count": 2,
      "outputs": [
        {
          "output_type": "execute_result",
          "data": {
            "text/plain": [
              "4000"
            ]
          },
          "metadata": {},
          "execution_count": 2
        }
      ]
    },
    {
      "cell_type": "code",
      "source": [],
      "metadata": {
        "id": "hHnVq2Kg_euE"
      },
      "execution_count": 29,
      "outputs": []
    },
    {
      "cell_type": "code",
      "source": [],
      "metadata": {
        "id": "4GNx_7Q5_Q5Q"
      },
      "execution_count": 30,
      "outputs": []
    },
    {
      "cell_type": "code",
      "source": [],
      "metadata": {
        "id": "bY2sIbyh_YK6"
      },
      "execution_count": 31,
      "outputs": []
    },
    {
      "cell_type": "code",
      "source": [],
      "metadata": {
        "id": "WF9EqlfM_bja"
      },
      "execution_count": null,
      "outputs": []
    }
  ]
}